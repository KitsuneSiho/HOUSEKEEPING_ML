{
  "nbformat": 4,
  "nbformat_minor": 0,
  "metadata": {
    "colab": {
      "provenance": [],
      "mount_file_id": "1XGVIvH5SPGngXwHifmQgq7j5vkqH4XD7",
      "authorship_tag": "ABX9TyP+eA7EDcqtKo3kWpJn4IU0",
      "include_colab_link": true
    },
    "kernelspec": {
      "name": "python3",
      "display_name": "Python 3"
    },
    "language_info": {
      "name": "python"
    }
  },
  "cells": [
    {
      "cell_type": "markdown",
      "metadata": {
        "id": "view-in-github",
        "colab_type": "text"
      },
      "source": [
        "<a href=\"https://colab.research.google.com/github/KitsuneSiho/HOUSEKEEPING_ML/blob/main/NCP_OCR.ipynb\" target=\"_parent\"><img src=\"https://colab.research.google.com/assets/colab-badge.svg\" alt=\"Open In Colab\"/></a>"
      ]
    },
    {
      "cell_type": "code",
      "execution_count": 1,
      "metadata": {
        "id": "lLevg9DhRfDZ"
      },
      "outputs": [],
      "source": [
        "import requests\n",
        "import uuid\n",
        "import time\n",
        "import json"
      ]
    },
    {
      "cell_type": "code",
      "source": [
        "api_url = 'https://z94ivgpxxo.apigw.ntruss.com/custom/v1/33364/7bfd1ef6331b3d217adccb7194c3e307cb168b4fafa44dbfddec6a571b4ec22e/general'\n",
        "secret_key = 'empna2R0c1ZDbHdMb1NpSElEbXhLQ2xzUkFGakVNZ2U='\n",
        "image_file = '/content/drive/MyDrive/OCR_TEST/Screenshot 2024-08-08 182711.png'"
      ],
      "metadata": {
        "id": "qMnUhKQHULLG"
      },
      "execution_count": 2,
      "outputs": []
    },
    {
      "cell_type": "code",
      "source": [
        "request_json = {\n",
        "    'images': [\n",
        "        {\n",
        "            'format': 'jpg',\n",
        "            'name': 'demo'\n",
        "        }\n",
        "    ],\n",
        "    'requestId': str(uuid.uuid4()),\n",
        "    'version': 'V2',\n",
        "    'timestamp': int(round(time.time() * 1000))\n",
        "}"
      ],
      "metadata": {
        "id": "xUzLkBdXUX-b"
      },
      "execution_count": 3,
      "outputs": []
    },
    {
      "cell_type": "code",
      "source": [
        "payload = {'message': json.dumps(request_json).encode('UTF-8')}\n",
        "files = [\n",
        "  ('file', open(image_file,'rb'))\n",
        "]\n",
        "headers = {\n",
        "  'X-OCR-SECRET': secret_key\n",
        "}"
      ],
      "metadata": {
        "id": "lzkv2KrNUbId"
      },
      "execution_count": 4,
      "outputs": []
    },
    {
      "cell_type": "code",
      "source": [
        "response = requests.request(\"POST\", api_url, headers=headers, data = payload, files = files)\n",
        "\n",
        "print(response.text.encode('utf8'))"
      ],
      "metadata": {
        "colab": {
          "base_uri": "https://localhost:8080/"
        },
        "id": "ibPYhVU1UdcO",
        "outputId": "d26b6b87-a1fc-43f7-b1b0-4c0bfb3167c5"
      },
      "execution_count": 5,
      "outputs": [
        {
          "output_type": "stream",
          "name": "stdout",
          "text": [
            "b'{\"version\":\"V2\",\"requestId\":\"4915a982-7807-4c4b-a34b-64dc9f934a2a\",\"timestamp\":1723109349077,\"images\":[{\"uid\":\"c6f0622ebb8c41cea6563b84080435cf\",\"name\":\"demo\",\"inferResult\":\"SUCCESS\",\"message\":\"SUCCESS\",\"validationResult\":{\"result\":\"NO_REQUESTED\"},\"convertedImageInfo\":{\"width\":477,\"height\":767,\"pageIndex\":0,\"longImage\":false},\"fields\":[{\"valueType\":\"ALL\",\"boundingPoly\":{\"vertices\":[{\"x\":70.0,\"y\":40.0},{\"x\":121.0,\"y\":40.0},{\"x\":121.0,\"y\":79.0},{\"x\":70.0,\"y\":79.0}]},\"inferText\":\"Soul\",\"inferConfidence\":0.5206,\"type\":\"NORMAL\",\"lineBreak\":false},{\"valueType\":\"ALL\",\"boundingPoly\":{\"vertices\":[{\"x\":73.0,\"y\":66.0},{\"x\":82.0,\"y\":66.0},{\"x\":82.0,\"y\":75.0},{\"x\":73.0,\"y\":75.0}]},\"inferText\":\"&\",\"inferConfidence\":0.4887,\"type\":\"NORMAL\",\"lineBreak\":false},{\"valueType\":\"ALL\",\"boundingPoly\":{\"vertices\":[{\"x\":135.0,\"y\":40.0},{\"x\":240.0,\"y\":40.0},{\"x\":241.0,\"y\":72.0},{\"x\":136.0,\"y\":73.0}]},\"inferText\":\"\\xed\\x95\\xa8\\xea\\xbb\\x98\\xed\\x95\\x98\\xeb\\x8a\\x94\",\"inferConfidence\":1.0,\"type\":\"NORMAL\",\"lineBreak\":false},{\"valueType\":\"ALL\",\"boundingPoly\":{\"vertices\":[{\"x\":237.0,\"y\":36.0},{\"x\":297.0,\"y\":36.0},{\"x\":297.0,\"y\":77.0},{\"x\":237.0,\"y\":77.0}]},\"inferText\":\"\\xed\\x96\\x89\\xeb\\xb3\\xb5\",\"inferConfidence\":0.9981,\"type\":\"NORMAL\",\"lineBreak\":false},{\"valueType\":\"ALL\",\"boundingPoly\":{\"vertices\":[{\"x\":303.0,\"y\":38.0},{\"x\":422.0,\"y\":38.0},{\"x\":422.0,\"y\":81.0},{\"x\":303.0,\"y\":81.0}]},\"inferText\":\"GS25\",\"inferConfidence\":0.999,\"type\":\"NORMAL\",\"lineBreak\":true},{\"valueType\":\"ALL\",\"boundingPoly\":{\"vertices\":[{\"x\":81.0,\"y\":71.0},{\"x\":97.0,\"y\":71.0},{\"x\":97.0,\"y\":80.0},{\"x\":81.0,\"y\":80.0}]},\"inferText\":\"food\",\"inferConfidence\":0.7088,\"type\":\"NORMAL\",\"lineBreak\":true},{\"valueType\":\"ALL\",\"boundingPoly\":{\"vertices\":[{\"x\":168.0,\"y\":110.0},{\"x\":213.0,\"y\":110.0},{\"x\":213.0,\"y\":134.0},{\"x\":168.0,\"y\":134.0}]},\"inferText\":\"T\",\"inferConfidence\":0.9581,\"type\":\"NORMAL\",\"lineBreak\":true},{\"valueType\":\"ALL\",\"boundingPoly\":{\"vertices\":[{\"x\":52.0,\"y\":158.0},{\"x\":75.0,\"y\":158.0},{\"x\":75.0,\"y\":181.0},{\"x\":52.0,\"y\":181.0}]},\"inferText\":\"2\",\"inferConfidence\":0.1854,\"type\":\"NORMAL\",\"lineBreak\":false},{\"valueType\":\"ALL\",\"boundingPoly\":{\"vertices\":[{\"x\":189.0,\"y\":158.0},{\"x\":212.0,\"y\":158.0},{\"x\":212.0,\"y\":180.0},{\"x\":189.0,\"y\":180.0}]},\"inferText\":\"\\xea\\xb7\\xb8\",\"inferConfidence\":0.8551,\"type\":\"NORMAL\",\"lineBreak\":false},{\"valueType\":\"ALL\",\"boundingPoly\":{\"vertices\":[{\"x\":290.0,\"y\":160.0},{\"x\":351.0,\"y\":160.0},{\"x\":351.0,\"y\":180.0},{\"x\":290.0,\"y\":180.0}]},\"inferText\":\"\\xc2\\xb7\",\"inferConfidence\":0.6562,\"type\":\"NORMAL\",\"lineBreak\":false},{\"valueType\":\"ALL\",\"boundingPoly\":{\"vertices\":[{\"x\":48.0,\"y\":182.0},{\"x\":247.0,\"y\":182.0},{\"x\":247.0,\"y\":205.0},{\"x\":48.0,\"y\":205.0}]},\"inferText\":\"2016/08/09\",\"inferConfidence\":0.9996,\"type\":\"NORMAL\",\"lineBreak\":true},{\"valueType\":\"ALL\",\"boundingPoly\":{\"vertices\":[{\"x\":58.0,\"y\":249.0},{\"x\":151.0,\"y\":249.0},{\"x\":151.0,\"y\":278.0},{\"x\":58.0,\"y\":278.0}]},\"inferText\":\"\\xeb\\xb9\\x84\\xed\\x83\\x80500\",\"inferConfidence\":1.0,\"type\":\"NORMAL\",\"lineBreak\":false},{\"valueType\":\"ALL\",\"boundingPoly\":{\"vertices\":[{\"x\":60.0,\"y\":225.0},{\"x\":205.0,\"y\":225.0},{\"x\":205.0,\"y\":256.0},{\"x\":60.0,\"y\":256.0}]},\"inferText\":\"\\xed\\x81\\xac\\xeb\\x9f\\xb0\\xed\\x82\\xa4\\xec\\xb4\\x88\\xec\\xbd\\x9c\\xeb\\xa6\\xbf\",\"inferConfidence\":0.9997,\"type\":\"NORMAL\",\"lineBreak\":false},{\"valueType\":\"ALL\",\"boundingPoly\":{\"vertices\":[{\"x\":153.0,\"y\":249.0},{\"x\":220.0,\"y\":251.0},{\"x\":220.0,\"y\":278.0},{\"x\":152.0,\"y\":277.0}]},\"inferText\":\"180ML\",\"inferConfidence\":0.9994,\"type\":\"NORMAL\",\"lineBreak\":false},{\"valueType\":\"ALL\",\"boundingPoly\":{\"vertices\":[{\"x\":273.0,\"y\":229.0},{\"x\":285.0,\"y\":229.0},{\"x\":285.0,\"y\":273.0},{\"x\":273.0,\"y\":273.0}]},\"inferText\":\"11\",\"inferConfidence\":1.0,\"type\":\"NORMAL\",\"lineBreak\":false},{\"valueType\":\"ALL\",\"boundingPoly\":{\"vertices\":[{\"x\":362.0,\"y\":225.0},{\"x\":430.0,\"y\":222.0},{\"x\":431.0,\"y\":250.0},{\"x\":363.0,\"y\":253.0}]},\"inferText\":\"1,000\",\"inferConfidence\":1.0,\"type\":\"NORMAL\",\"lineBreak\":false},{\"valueType\":\"ALL\",\"boundingPoly\":{\"vertices\":[{\"x\":364.0,\"y\":247.0},{\"x\":431.0,\"y\":247.0},{\"x\":431.0,\"y\":275.0},{\"x\":364.0,\"y\":275.0}]},\"inferText\":\"1,200\",\"inferConfidence\":1.0,\"type\":\"NORMAL\",\"lineBreak\":true},{\"valueType\":\"ALL\",\"boundingPoly\":{\"vertices\":[{\"x\":58.0,\"y\":273.0},{\"x\":229.0,\"y\":273.0},{\"x\":229.0,\"y\":303.0},{\"x\":58.0,\"y\":303.0}]},\"inferText\":\"\\xed\\x8f\\xac\\xed\\x85\\x8c\\xec\\x9d\\xb4\\xed\\x86\\xa0\\xed\\x81\\xac\\xeb\\xa6\\xac\\xec\\x8a\\xa4\",\"inferConfidence\":1.0,\"type\":\"NORMAL\",\"lineBreak\":false},{\"valueType\":\"ALL\",\"boundingPoly\":{\"vertices\":[{\"x\":273.0,\"y\":275.0},{\"x\":285.0,\"y\":275.0},{\"x\":285.0,\"y\":297.0},{\"x\":273.0,\"y\":297.0}]},\"inferText\":\"1\",\"inferConfidence\":1.0,\"type\":\"NORMAL\",\"lineBreak\":false},{\"valueType\":\"ALL\",\"boundingPoly\":{\"vertices\":[{\"x\":364.0,\"y\":271.0},{\"x\":431.0,\"y\":271.0},{\"x\":431.0,\"y\":299.0},{\"x\":364.0,\"y\":299.0}]},\"inferText\":\"1,000\",\"inferConfidence\":0.9999,\"type\":\"NORMAL\",\"lineBreak\":true},{\"valueType\":\"ALL\",\"boundingPoly\":{\"vertices\":[{\"x\":47.0,\"y\":297.0},{\"x\":206.0,\"y\":297.0},{\"x\":206.0,\"y\":329.0},{\"x\":47.0,\"y\":329.0}]},\"inferText\":\"\\xed\\x95\\xa9\\xea\\xb3\\x84\\xec\\x88\\x98\\xeb\\x9f\\x89/\\xea\\xb8\\x88\\xec\\x95\\xa1\",\"inferConfidence\":0.9998,\"type\":\"NORMAL\",\"lineBreak\":false},{\"valueType\":\"ALL\",\"boundingPoly\":{\"vertices\":[{\"x\":258.0,\"y\":297.0},{\"x\":278.0,\"y\":297.0},{\"x\":278.0,\"y\":323.0},{\"x\":258.0,\"y\":323.0}]},\"inferText\":\"3\",\"inferConfidence\":0.9998,\"type\":\"NORMAL\",\"lineBreak\":false},{\"valueType\":\"ALL\",\"boundingPoly\":{\"vertices\":[{\"x\":340.0,\"y\":295.0},{\"x\":409.0,\"y\":295.0},{\"x\":409.0,\"y\":323.0},{\"x\":340.0,\"y\":323.0}]},\"inferText\":\"3,200\",\"inferConfidence\":1.0,\"type\":\"NORMAL\",\"lineBreak\":true},{\"valueType\":\"ALL\",\"boundingPoly\":{\"vertices\":[{\"x\":45.0,\"y\":344.0},{\"x\":99.0,\"y\":344.0},{\"x\":99.0,\"y\":377.0},{\"x\":45.0,\"y\":377.0}]},\"inferText\":\"\\xea\\xb3\\xbc\\xec\\x84\\xb8\",\"inferConfidence\":0.9957,\"type\":\"NORMAL\",\"lineBreak\":false},{\"valueType\":\"ALL\",\"boundingPoly\":{\"vertices\":[{\"x\":105.0,\"y\":344.0},{\"x\":159.0,\"y\":344.0},{\"x\":159.0,\"y\":376.0},{\"x\":105.0,\"y\":376.0}]},\"inferText\":\"\\xeb\\xa7\\xa4\\xec\\xb6\\x9c\",\"inferConfidence\":0.9991,\"type\":\"NORMAL\",\"lineBreak\":false},{\"valueType\":\"ALL\",\"boundingPoly\":{\"vertices\":[{\"x\":364.0,\"y\":342.0},{\"x\":433.0,\"y\":342.0},{\"x\":433.0,\"y\":370.0},{\"x\":364.0,\"y\":370.0}]},\"inferText\":\"2,909\",\"inferConfidence\":0.9999,\"type\":\"NORMAL\",\"lineBreak\":true},{\"valueType\":\"ALL\",\"boundingPoly\":{\"vertices\":[{\"x\":46.0,\"y\":369.0},{\"x\":123.0,\"y\":369.0},{\"x\":123.0,\"y\":401.0},{\"x\":46.0,\"y\":401.0}]},\"inferText\":\"\\xeb\\xb6\\x80\\xea\\xb0\\x80\\xec\\x84\\xb8\",\"inferConfidence\":0.9999,\"type\":\"NORMAL\",\"lineBreak\":false},{\"valueType\":\"ALL\",\"boundingPoly\":{\"vertices\":[{\"x\":388.0,\"y\":366.0},{\"x\":433.0,\"y\":366.0},{\"x\":433.0,\"y\":394.0},{\"x\":388.0,\"y\":394.0}]},\"inferText\":\"291\",\"inferConfidence\":1.0,\"type\":\"NORMAL\",\"lineBreak\":true},{\"valueType\":\"ALL\",\"boundingPoly\":{\"vertices\":[{\"x\":46.0,\"y\":394.0},{\"x\":77.0,\"y\":394.0},{\"x\":77.0,\"y\":425.0},{\"x\":46.0,\"y\":425.0}]},\"inferText\":\"\\xed\\x95\\xa9\",\"inferConfidence\":0.9999,\"type\":\"NORMAL\",\"lineBreak\":false},{\"valueType\":\"ALL\",\"boundingPoly\":{\"vertices\":[{\"x\":164.0,\"y\":392.0},{\"x\":194.0,\"y\":392.0},{\"x\":194.0,\"y\":423.0},{\"x\":164.0,\"y\":423.0}]},\"inferText\":\"\\xea\\xb3\\x84\",\"inferConfidence\":1.0,\"type\":\"NORMAL\",\"lineBreak\":false},{\"valueType\":\"ALL\",\"boundingPoly\":{\"vertices\":[{\"x\":341.0,\"y\":391.0},{\"x\":412.0,\"y\":391.0},{\"x\":412.0,\"y\":418.0},{\"x\":341.0,\"y\":418.0}]},\"inferText\":\"3,200\",\"inferConfidence\":1.0,\"type\":\"NORMAL\",\"lineBreak\":true},{\"valueType\":\"ALL\",\"boundingPoly\":{\"vertices\":[{\"x\":44.0,\"y\":416.0},{\"x\":123.0,\"y\":415.0},{\"x\":124.0,\"y\":448.0},{\"x\":45.0,\"y\":450.0}]},\"inferText\":\"\\xea\\xb8\\xb0\\xed\\x94\\x84\\xed\\x8b\\xb0\",\"inferConfidence\":0.9999,\"type\":\"NORMAL\",\"lineBreak\":false},{\"valueType\":\"ALL\",\"boundingPoly\":{\"vertices\":[{\"x\":128.0,\"y\":415.0},{\"x\":194.0,\"y\":415.0},{\"x\":194.0,\"y\":449.0},{\"x\":128.0,\"y\":449.0}]},\"inferText\":\"\\xec\\xbf\\xa0\\xed\\x8f\\xb0\",\"inferConfidence\":0.937,\"type\":\"NORMAL\",\"lineBreak\":false},{\"valueType\":\"ALL\",\"boundingPoly\":{\"vertices\":[{\"x\":342.0,\"y\":414.0},{\"x\":413.0,\"y\":414.0},{\"x\":413.0,\"y\":443.0},{\"x\":342.0,\"y\":443.0}]},\"inferText\":\"3,200\",\"inferConfidence\":0.9999,\"type\":\"NORMAL\",\"lineBreak\":true},{\"valueType\":\"ALL\",\"boundingPoly\":{\"vertices\":[{\"x\":44.0,\"y\":466.0},{\"x\":98.0,\"y\":466.0},{\"x\":98.0,\"y\":499.0},{\"x\":44.0,\"y\":499.0}]},\"inferText\":\"\\xea\\xb1\\xb0\\xeb\\x9e\\x98\",\"inferConfidence\":0.9999,\"type\":\"NORMAL\",\"lineBreak\":false},{\"valueType\":\"ALL\",\"boundingPoly\":{\"vertices\":[{\"x\":116.0,\"y\":465.0},{\"x\":169.0,\"y\":465.0},{\"x\":169.0,\"y\":497.0},{\"x\":116.0,\"y\":497.0}]},\"inferText\":\"\\xec\\x9d\\xbc\\xec\\x9e\\x90\",\"inferConfidence\":0.9999,\"type\":\"NORMAL\",\"lineBreak\":false},{\"valueType\":\"ALL\",\"boundingPoly\":{\"vertices\":[{\"x\":187.0,\"y\":465.0},{\"x\":316.0,\"y\":463.0},{\"x\":317.0,\"y\":493.0},{\"x\":187.0,\"y\":495.0}]},\"inferText\":\"2016-08-09\",\"inferConfidence\":0.9999,\"type\":\"NORMAL\",\"lineBreak\":true},{\"valueType\":\"ALL\",\"boundingPoly\":{\"vertices\":[{\"x\":41.0,\"y\":491.0},{\"x\":98.0,\"y\":490.0},{\"x\":99.0,\"y\":524.0},{\"x\":42.0,\"y\":526.0}]},\"inferText\":\"\\xeb\\x8c\\x80\\xec\\x83\\x81\",\"inferConfidence\":0.9997,\"type\":\"NORMAL\",\"lineBreak\":false},{\"valueType\":\"ALL\",\"boundingPoly\":{\"vertices\":[{\"x\":116.0,\"y\":490.0},{\"x\":168.0,\"y\":490.0},{\"x\":168.0,\"y\":523.0},{\"x\":116.0,\"y\":523.0}]},\"inferText\":\"\\xea\\xb8\\x88\\xec\\x95\\xa1\",\"inferConfidence\":1.0,\"type\":\"NORMAL\",\"lineBreak\":false},{\"valueType\":\"ALL\",\"boundingPoly\":{\"vertices\":[{\"x\":186.0,\"y\":489.0},{\"x\":277.0,\"y\":489.0},{\"x\":277.0,\"y\":520.0},{\"x\":186.0,\"y\":520.0}]},\"inferText\":\"3,200\\xec\\x9b\\x90\",\"inferConfidence\":0.9985,\"type\":\"NORMAL\",\"lineBreak\":true},{\"valueType\":\"ALL\",\"boundingPoly\":{\"vertices\":[{\"x\":101.0,\"y\":538.0},{\"x\":351.0,\"y\":538.0},{\"x\":351.0,\"y\":573.0},{\"x\":101.0,\"y\":573.0}]},\"inferText\":\"\\xed\\x98\\x84\\xea\\xb8\\x88\\xec\\x98\\x81\\xec\\x88\\x98\\xec\\xa6\\x9d(\\xec\\x86\\x8c\\xeb\\x93\\x9d\\xea\\xb3\\xb5\\xec\\xa0\\x9c)\",\"inferConfidence\":0.9925,\"type\":\"NORMAL\",\"lineBreak\":true},{\"valueType\":\"ALL\",\"boundingPoly\":{\"vertices\":[{\"x\":40.0,\"y\":565.0},{\"x\":167.0,\"y\":566.0},{\"x\":167.0,\"y\":600.0},{\"x\":40.0,\"y\":599.0}]},\"inferText\":\"\\xea\\xb1\\xb0\\xeb\\x9e\\x98\\xec\\x9e\\x90\\xeb\\xb2\\x88\\xed\\x98\\xb8\",\"inferConfidence\":0.9997,\"type\":\"NORMAL\",\"lineBreak\":true},{\"valueType\":\"ALL\",\"boundingPoly\":{\"vertices\":[{\"x\":40.0,\"y\":592.0},{\"x\":94.0,\"y\":592.0},{\"x\":94.0,\"y\":625.0},{\"x\":40.0,\"y\":625.0}]},\"inferText\":\"\\xec\\x8a\\xb9\\xec\\x9d\\xb8\",\"inferConfidence\":1.0,\"type\":\"NORMAL\",\"lineBreak\":false},{\"valueType\":\"ALL\",\"boundingPoly\":{\"vertices\":[{\"x\":112.0,\"y\":591.0},{\"x\":167.0,\"y\":591.0},{\"x\":167.0,\"y\":623.0},{\"x\":112.0,\"y\":623.0}]},\"inferText\":\"\\xeb\\xb2\\x88\\xed\\x98\\xb8\",\"inferConfidence\":1.0,\"type\":\"NORMAL\",\"lineBreak\":false},{\"valueType\":\"ALL\",\"boundingPoly\":{\"vertices\":[{\"x\":42.0,\"y\":618.0},{\"x\":227.0,\"y\":616.0},{\"x\":228.0,\"y\":649.0},{\"x\":42.0,\"y\":651.0}]},\"inferText\":\"\\xea\\xb5\\xad\\xec\\x84\\xb8\\xec\\xb2\\xad\\xeb\\xac\\xb8\\xec\\x9d\\x98 (126)\",\"inferConfidence\":0.9698,\"type\":\"NORMAL\",\"lineBreak\":true},{\"valueType\":\"ALL\",\"boundingPoly\":{\"vertices\":[{\"x\":64.0,\"y\":644.0},{\"x\":179.0,\"y\":644.0},{\"x\":179.0,\"y\":677.0},{\"x\":64.0,\"y\":677.0}]},\"inferText\":\"\\xed\\x99\\x88\\xed\\x8e\\x98\\xec\\x9d\\xb4\\xec\\xa7\\x80:\",\"inferConfidence\":0.9999,\"type\":\"NORMAL\",\"lineBreak\":false},{\"valueType\":\"ALL\",\"boundingPoly\":{\"vertices\":[{\"x\":185.0,\"y\":644.0},{\"x\":251.0,\"y\":644.0},{\"x\":251.0,\"y\":673.0},{\"x\":185.0,\"y\":673.0}]},\"inferText\":\"http:\",\"inferConfidence\":0.9999,\"type\":\"NORMAL\",\"lineBreak\":false},{\"valueType\":\"ALL\",\"boundingPoly\":{\"vertices\":[{\"x\":247.0,\"y\":643.0},{\"x\":444.0,\"y\":643.0},{\"x\":444.0,\"y\":677.0},{\"x\":247.0,\"y\":677.0}]},\"inferText\":\"//\\xed\\x98\\x84\\xea\\xb8\\x88\\xec\\x98\\x81\\xec\\x88\\x98\\xec\\xa6\\x9d.kr\",\"inferConfidence\":0.9994,\"type\":\"NORMAL\",\"lineBreak\":true},{\"valueType\":\"ALL\",\"boundingPoly\":{\"vertices\":[{\"x\":136.0,\"y\":668.0},{\"x\":244.0,\"y\":668.0},{\"x\":244.0,\"y\":701.0},{\"x\":136.0,\"y\":701.0}]},\"inferText\":\"16/08/09\",\"inferConfidence\":0.9995,\"type\":\"NORMAL\",\"lineBreak\":false},{\"valueType\":\"ALL\",\"boundingPoly\":{\"vertices\":[{\"x\":248.0,\"y\":670.0},{\"x\":289.0,\"y\":670.0},{\"x\":289.0,\"y\":700.0},{\"x\":248.0,\"y\":700.0}]},\"inferText\":\"23:\",\"inferConfidence\":0.9999,\"type\":\"NORMAL\",\"lineBreak\":false},{\"valueType\":\"ALL\",\"boundingPoly\":{\"vertices\":[{\"x\":285.0,\"y\":671.0},{\"x\":327.0,\"y\":671.0},{\"x\":327.0,\"y\":700.0},{\"x\":285.0,\"y\":700.0}]},\"inferText\":\"09:\",\"inferConfidence\":0.9988,\"type\":\"NORMAL\",\"lineBreak\":false},{\"valueType\":\"ALL\",\"boundingPoly\":{\"vertices\":[{\"x\":323.0,\"y\":670.0},{\"x\":358.0,\"y\":670.0},{\"x\":358.0,\"y\":701.0},{\"x\":323.0,\"y\":701.0}]},\"inferText\":\"12\",\"inferConfidence\":1.0,\"type\":\"NORMAL\",\"lineBreak\":true},{\"valueType\":\"ALL\",\"boundingPoly\":{\"vertices\":[{\"x\":37.0,\"y\":695.0},{\"x\":99.0,\"y\":695.0},{\"x\":99.0,\"y\":726.0},{\"x\":37.0,\"y\":726.0}]},\"inferText\":\"GS25\",\"inferConfidence\":1.0,\"type\":\"NORMAL\",\"lineBreak\":false},{\"valueType\":\"ALL\",\"boundingPoly\":{\"vertices\":[{\"x\":100.0,\"y\":693.0},{\"x\":179.0,\"y\":695.0},{\"x\":179.0,\"y\":730.0},{\"x\":99.0,\"y\":728.0}]},\"inferText\":\"\\xeb\\xa9\\xa4\\xeb\\xb2\\x84\\xec\\x8b\\xad\",\"inferConfidence\":0.9995,\"type\":\"NORMAL\",\"lineBreak\":false},{\"valueType\":\"ALL\",\"boundingPoly\":{\"vertices\":[{\"x\":184.0,\"y\":694.0},{\"x\":243.0,\"y\":694.0},{\"x\":243.0,\"y\":729.0},{\"x\":184.0,\"y\":729.0}]},\"inferText\":\"\\xec\\xb9\\xb4\\xeb\\x93\\x9c\",\"inferConfidence\":0.9999,\"type\":\"NORMAL\",\"lineBreak\":false},{\"valueType\":\"ALL\",\"boundingPoly\":{\"vertices\":[{\"x\":249.0,\"y\":696.0},{\"x\":318.0,\"y\":696.0},{\"x\":318.0,\"y\":731.0},{\"x\":249.0,\"y\":731.0}]},\"inferText\":\"\\xec\\xb6\\x9c\\xec\\x8b\\x9c!\",\"inferConfidence\":0.9947,\"type\":\"NORMAL\",\"lineBreak\":true},{\"valueType\":\"ALL\",\"boundingPoly\":{\"vertices\":[{\"x\":39.0,\"y\":720.0},{\"x\":146.0,\"y\":721.0},{\"x\":146.0,\"y\":756.0},{\"x\":39.0,\"y\":755.0}]},\"inferText\":\"\\xec\\xa0\\x81\\xeb\\xa6\\xbd\\xeb\\xb0\\x9b\\xea\\xb3\\xa0\",\"inferConfidence\":1.0,\"type\":\"NORMAL\",\"lineBreak\":false},{\"valueType\":\"ALL\",\"boundingPoly\":{\"vertices\":[{\"x\":149.0,\"y\":721.0},{\"x\":254.0,\"y\":722.0},{\"x\":253.0,\"y\":758.0},{\"x\":148.0,\"y\":756.0}]},\"inferText\":\"\\xed\\x98\\x84\\xea\\xb8\\x88\\xec\\xb2\\x98\\xeb\\x9f\\xbc\",\"inferConfidence\":0.9998,\"type\":\"NORMAL\",\"lineBreak\":false},{\"valueType\":\"ALL\",\"boundingPoly\":{\"vertices\":[{\"x\":259.0,\"y\":722.0},{\"x\":370.0,\"y\":722.0},{\"x\":370.0,\"y\":759.0},{\"x\":259.0,\"y\":759.0}]},\"inferText\":\"\\xec\\x82\\xac\\xec\\x9a\\xa9\\xed\\x95\\x98\\xec\\x9e\\x90\",\"inferConfidence\":0.9999,\"type\":\"NORMAL\",\"lineBreak\":true}]}]}'\n"
          ]
        }
      ]
    },
    {
      "cell_type": "code",
      "source": [
        "result = response.json()\n",
        "with open('result.json', 'w', encoding='utf-8') as make_file:\n",
        "    json.dump(result, make_file, indent=\"\\t\", ensure_ascii=False)"
      ],
      "metadata": {
        "id": "85ELE9tyUz6i"
      },
      "execution_count": 6,
      "outputs": []
    },
    {
      "cell_type": "code",
      "source": [
        "text = \"\"\n",
        "for field in result['images'][0]['fields']:\n",
        "    text += field['inferText']\n",
        "print(text)"
      ],
      "metadata": {
        "colab": {
          "base_uri": "https://localhost:8080/"
        },
        "id": "0alD6c-BU5zn",
        "outputId": "d8cd5dfe-03ae-4f29-c128-1bbbd123feb1"
      },
      "execution_count": 7,
      "outputs": [
        {
          "output_type": "stream",
          "name": "stdout",
          "text": [
            "Soul&함께하는행복GS25foodT2그·2016/08/09비타500크런키초콜릿180ML111,0001,200포테이토크리스11,000합계수량/금액33,200과세매출2,909부가세291합계3,200기프티쿠폰3,200거래일자2016-08-09대상금액3,200원현금영수증(소득공제)거래자번호승인번호국세청문의 (126)홈페이지:http://현금영수증.kr16/08/0923:09:12GS25멤버십카드출시!적립받고현금처럼사용하자\n"
          ]
        }
      ]
    }
  ]
}